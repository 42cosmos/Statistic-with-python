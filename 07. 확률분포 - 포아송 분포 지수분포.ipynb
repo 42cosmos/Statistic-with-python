{
 "cells": [
  {
   "cell_type": "code",
   "execution_count": 1,
   "id": "metric-breach",
   "metadata": {},
   "outputs": [],
   "source": [
    "import pandas as pd\n",
    "import numpy as np\n",
    "import matplotlib.pyplot as plt\n",
    "import seaborn as sns\n",
    "\n",
    "from random import random\n",
    "from scipy.special import comb\n",
    "import scipy as sp\n",
    "\n",
    "sns.set(style='ticks', color_codes = True)"
   ]
  },
  {
   "cell_type": "code",
   "execution_count": 9,
   "id": "greek-return",
   "metadata": {},
   "outputs": [
    {
     "data": {
      "text/plain": [
       "0.08422433748856832"
      ]
     },
     "execution_count": 9,
     "metadata": {},
     "output_type": "execute_result"
    }
   ],
   "source": [
    "# pmf로 표현\n",
    "# 확률변수 2 ( 실책을 2번 했다~ 실제로 발생한 사건)\n",
    "# 평균 한 게임당 실책을 5번했다~ \n",
    "\n",
    "sp.stats.poisson.pmf(k = 2, mu = 5)"
   ]
  },
  {
   "cell_type": "code",
   "execution_count": 10,
   "id": "measured-copyright",
   "metadata": {},
   "outputs": [
    {
     "data": {
      "text/plain": [
       "array([ 0,  1,  2,  3,  4,  5,  6,  7,  8,  9, 10, 11, 12, 13])"
      ]
     },
     "execution_count": 10,
     "metadata": {},
     "output_type": "execute_result"
    }
   ],
   "source": [
    "rvs_poisson = sp.stats.poisson.rvs(mu=5, size=1000)\n",
    "np.unique(rvs_poisson)"
   ]
  },
  {
   "cell_type": "code",
   "execution_count": 12,
   "id": "rapid-namibia",
   "metadata": {},
   "outputs": [
    {
     "name": "stderr",
     "output_type": "stream",
     "text": [
      "/Users/eunbinpark/miniconda3/envs/da/lib/python3.6/site-packages/seaborn/distributions.py:2557: FutureWarning: `distplot` is a deprecated function and will be removed in a future version. Please adapt your code to use either `displot` (a figure-level function with similar flexibility) or `histplot` (an axes-level function for histograms).\n",
      "  warnings.warn(msg, FutureWarning)\n"
     ]
    },
    {
     "data": {
      "text/plain": [
       "<AxesSubplot:ylabel='Density'>"
      ]
     },
     "execution_count": 12,
     "metadata": {},
     "output_type": "execute_result"
    },
    {
     "data": {
      "image/png": "[encoded data removed]",
      "text/plain": [
       "<Figure size 432x288 with 1 Axes>"
      ]
     },
     "metadata": {},
     "output_type": "display_data"
    }
   ],
   "source": [
    "sns.distplot(rvs_poisson, bins=20)"
   ]
  },
  {
   "cell_type": "markdown",
   "id": "consistent-ceramic",
   "metadata": {},
   "source": [
    "### 문제 \n",
    "1. 평균 실책 횟수 3회\n",
    "2. 한번이라도 실책을 하는 경기를 치룰 확률은?"
   ]
  },
  {
   "cell_type": "code",
   "execution_count": 13,
   "id": "complimentary-valentine",
   "metadata": {},
   "outputs": [
    {
     "data": {
      "text/plain": [
       "0.049787068367863944"
      ]
     },
     "execution_count": 13,
     "metadata": {},
     "output_type": "execute_result"
    }
   ],
   "source": [
    "# 한 번도 실책하지 않을 확률\n",
    "sp.stats.poisson.pmf(k = 0, mu = 3)"
   ]
  },
  {
   "cell_type": "code",
   "execution_count": 14,
   "id": "sufficient-question",
   "metadata": {},
   "outputs": [
    {
     "data": {
      "text/plain": [
       "0.950212931632136"
      ]
     },
     "execution_count": 14,
     "metadata": {},
     "output_type": "execute_result"
    }
   ],
   "source": [
    "1 - sp.stats.poisson.pmf(k = 0, mu = 3)"
   ]
  },
  {
   "cell_type": "code",
   "execution_count": 15,
   "id": "stopped-cambridge",
   "metadata": {},
   "outputs": [
    {
     "data": {
      "text/plain": [
       "(41876, 9)"
      ]
     },
     "execution_count": 15,
     "metadata": {},
     "output_type": "execute_result"
    }
   ],
   "source": [
    "df = pd.read_csv('./data/football_games.csv')\n",
    "df.shape"
   ]
  },
  {
   "cell_type": "code",
   "execution_count": 16,
   "id": "personalized-housing",
   "metadata": {},
   "outputs": [
    {
     "data": {
      "text/html": [
       "<div>\n",
       "<style scoped>\n",
       "    .dataframe tbody tr th:only-of-type {\n",
       "        vertical-align: middle;\n",
       "    }\n",
       "\n",
       "    .dataframe tbody tr th {\n",
       "        vertical-align: top;\n",
       "    }\n",
       "\n",
       "    .dataframe thead th {\n",
       "        text-align: right;\n",
       "    }\n",
       "</style>\n",
       "<table border=\"1\" class=\"dataframe\">\n",
       "  <thead>\n",
       "    <tr style=\"text-align: right;\">\n",
       "      <th></th>\n",
       "      <th>date</th>\n",
       "      <th>home_team</th>\n",
       "      <th>away_team</th>\n",
       "      <th>home_score</th>\n",
       "      <th>away_score</th>\n",
       "      <th>tournament</th>\n",
       "      <th>city</th>\n",
       "      <th>country</th>\n",
       "      <th>neutral</th>\n",
       "    </tr>\n",
       "  </thead>\n",
       "  <tbody>\n",
       "    <tr>\n",
       "      <th>0</th>\n",
       "      <td>1872-11-30</td>\n",
       "      <td>Scotland</td>\n",
       "      <td>England</td>\n",
       "      <td>0</td>\n",
       "      <td>0</td>\n",
       "      <td>Friendly</td>\n",
       "      <td>Glasgow</td>\n",
       "      <td>Scotland</td>\n",
       "      <td>False</td>\n",
       "    </tr>\n",
       "    <tr>\n",
       "      <th>1</th>\n",
       "      <td>1873-03-08</td>\n",
       "      <td>England</td>\n",
       "      <td>Scotland</td>\n",
       "      <td>4</td>\n",
       "      <td>2</td>\n",
       "      <td>Friendly</td>\n",
       "      <td>London</td>\n",
       "      <td>England</td>\n",
       "      <td>False</td>\n",
       "    </tr>\n",
       "    <tr>\n",
       "      <th>2</th>\n",
       "      <td>1874-03-07</td>\n",
       "      <td>Scotland</td>\n",
       "      <td>England</td>\n",
       "      <td>2</td>\n",
       "      <td>1</td>\n",
       "      <td>Friendly</td>\n",
       "      <td>Glasgow</td>\n",
       "      <td>Scotland</td>\n",
       "      <td>False</td>\n",
       "    </tr>\n",
       "    <tr>\n",
       "      <th>3</th>\n",
       "      <td>1875-03-06</td>\n",
       "      <td>England</td>\n",
       "      <td>Scotland</td>\n",
       "      <td>2</td>\n",
       "      <td>2</td>\n",
       "      <td>Friendly</td>\n",
       "      <td>London</td>\n",
       "      <td>England</td>\n",
       "      <td>False</td>\n",
       "    </tr>\n",
       "    <tr>\n",
       "      <th>4</th>\n",
       "      <td>1876-03-04</td>\n",
       "      <td>Scotland</td>\n",
       "      <td>England</td>\n",
       "      <td>3</td>\n",
       "      <td>0</td>\n",
       "      <td>Friendly</td>\n",
       "      <td>Glasgow</td>\n",
       "      <td>Scotland</td>\n",
       "      <td>False</td>\n",
       "    </tr>\n",
       "  </tbody>\n",
       "</table>\n",
       "</div>"
      ],
      "text/plain": [
       "         date home_team away_team  home_score  away_score tournament     city  \\\n",
       "0  1872-11-30  Scotland   England           0           0   Friendly  Glasgow   \n",
       "1  1873-03-08   England  Scotland           4           2   Friendly   London   \n",
       "2  1874-03-07  Scotland   England           2           1   Friendly  Glasgow   \n",
       "3  1875-03-06   England  Scotland           2           2   Friendly   London   \n",
       "4  1876-03-04  Scotland   England           3           0   Friendly  Glasgow   \n",
       "\n",
       "    country  neutral  \n",
       "0  Scotland    False  \n",
       "1   England    False  \n",
       "2  Scotland    False  \n",
       "3   England    False  \n",
       "4  Scotland    False  "
      ]
     },
     "execution_count": 16,
     "metadata": {},
     "output_type": "execute_result"
    }
   ],
   "source": [
    "df.head()"
   ]
  },
  {
   "cell_type": "code",
   "execution_count": 19,
   "id": "european-harvard",
   "metadata": {},
   "outputs": [
    {
     "data": {
      "text/html": [
       "<div>\n",
       "<style scoped>\n",
       "    .dataframe tbody tr th:only-of-type {\n",
       "        vertical-align: middle;\n",
       "    }\n",
       "\n",
       "    .dataframe tbody tr th {\n",
       "        vertical-align: top;\n",
       "    }\n",
       "\n",
       "    .dataframe thead th {\n",
       "        text-align: right;\n",
       "    }\n",
       "</style>\n",
       "<table border=\"1\" class=\"dataframe\">\n",
       "  <thead>\n",
       "    <tr style=\"text-align: right;\">\n",
       "      <th></th>\n",
       "      <th>date</th>\n",
       "      <th>home_team</th>\n",
       "      <th>away_team</th>\n",
       "      <th>home_score</th>\n",
       "      <th>away_score</th>\n",
       "      <th>tournament</th>\n",
       "      <th>city</th>\n",
       "      <th>country</th>\n",
       "      <th>neutral</th>\n",
       "    </tr>\n",
       "  </thead>\n",
       "  <tbody>\n",
       "    <tr>\n",
       "      <th>2921</th>\n",
       "      <td>1949-01-02</td>\n",
       "      <td>China PR</td>\n",
       "      <td>South Korea</td>\n",
       "      <td>3</td>\n",
       "      <td>2</td>\n",
       "      <td>Friendly</td>\n",
       "      <td>So Kon Po</td>\n",
       "      <td>Hong Kong</td>\n",
       "      <td>True</td>\n",
       "    </tr>\n",
       "    <tr>\n",
       "      <th>2923</th>\n",
       "      <td>1949-01-16</td>\n",
       "      <td>Vietnam</td>\n",
       "      <td>South Korea</td>\n",
       "      <td>3</td>\n",
       "      <td>3</td>\n",
       "      <td>Friendly</td>\n",
       "      <td>Saigon</td>\n",
       "      <td>Vietnam</td>\n",
       "      <td>False</td>\n",
       "    </tr>\n",
       "    <tr>\n",
       "      <th>2924</th>\n",
       "      <td>1949-01-25</td>\n",
       "      <td>Macau</td>\n",
       "      <td>South Korea</td>\n",
       "      <td>1</td>\n",
       "      <td>5</td>\n",
       "      <td>Friendly</td>\n",
       "      <td>Macau</td>\n",
       "      <td>Macau</td>\n",
       "      <td>False</td>\n",
       "    </tr>\n",
       "    <tr>\n",
       "      <th>3093</th>\n",
       "      <td>1950-04-16</td>\n",
       "      <td>South Korea</td>\n",
       "      <td>Chinese Taipei</td>\n",
       "      <td>3</td>\n",
       "      <td>1</td>\n",
       "      <td>Friendly</td>\n",
       "      <td>Wan Chai</td>\n",
       "      <td>Hong Kong</td>\n",
       "      <td>True</td>\n",
       "    </tr>\n",
       "    <tr>\n",
       "      <th>3467</th>\n",
       "      <td>1953-04-05</td>\n",
       "      <td>Hong Kong</td>\n",
       "      <td>South Korea</td>\n",
       "      <td>4</td>\n",
       "      <td>0</td>\n",
       "      <td>Friendly</td>\n",
       "      <td>So Kon Po</td>\n",
       "      <td>Hong Kong</td>\n",
       "      <td>False</td>\n",
       "    </tr>\n",
       "    <tr>\n",
       "      <th>...</th>\n",
       "      <td>...</td>\n",
       "      <td>...</td>\n",
       "      <td>...</td>\n",
       "      <td>...</td>\n",
       "      <td>...</td>\n",
       "      <td>...</td>\n",
       "      <td>...</td>\n",
       "      <td>...</td>\n",
       "      <td>...</td>\n",
       "    </tr>\n",
       "    <tr>\n",
       "      <th>41585</th>\n",
       "      <td>2019-12-11</td>\n",
       "      <td>South Korea</td>\n",
       "      <td>Hong Kong</td>\n",
       "      <td>2</td>\n",
       "      <td>0</td>\n",
       "      <td>EAFF Championship</td>\n",
       "      <td>Busan</td>\n",
       "      <td>South Korea</td>\n",
       "      <td>False</td>\n",
       "    </tr>\n",
       "    <tr>\n",
       "      <th>41587</th>\n",
       "      <td>2019-12-15</td>\n",
       "      <td>South Korea</td>\n",
       "      <td>China PR</td>\n",
       "      <td>1</td>\n",
       "      <td>0</td>\n",
       "      <td>EAFF Championship</td>\n",
       "      <td>Busan</td>\n",
       "      <td>South Korea</td>\n",
       "      <td>False</td>\n",
       "    </tr>\n",
       "    <tr>\n",
       "      <th>41589</th>\n",
       "      <td>2019-12-18</td>\n",
       "      <td>South Korea</td>\n",
       "      <td>Japan</td>\n",
       "      <td>1</td>\n",
       "      <td>0</td>\n",
       "      <td>EAFF Championship</td>\n",
       "      <td>Busan</td>\n",
       "      <td>South Korea</td>\n",
       "      <td>False</td>\n",
       "    </tr>\n",
       "    <tr>\n",
       "      <th>41813</th>\n",
       "      <td>2020-11-14</td>\n",
       "      <td>Mexico</td>\n",
       "      <td>South Korea</td>\n",
       "      <td>3</td>\n",
       "      <td>2</td>\n",
       "      <td>Friendly</td>\n",
       "      <td>Wiener Neustadt</td>\n",
       "      <td>Austria</td>\n",
       "      <td>True</td>\n",
       "    </tr>\n",
       "    <tr>\n",
       "      <th>41848</th>\n",
       "      <td>2020-11-17</td>\n",
       "      <td>South Korea</td>\n",
       "      <td>Qatar</td>\n",
       "      <td>2</td>\n",
       "      <td>1</td>\n",
       "      <td>Friendly</td>\n",
       "      <td>Maria Enzersdorf</td>\n",
       "      <td>Austria</td>\n",
       "      <td>True</td>\n",
       "    </tr>\n",
       "  </tbody>\n",
       "</table>\n",
       "<p>864 rows × 9 columns</p>\n",
       "</div>"
      ],
      "text/plain": [
       "             date    home_team       away_team  home_score  away_score  \\\n",
       "2921   1949-01-02     China PR     South Korea           3           2   \n",
       "2923   1949-01-16      Vietnam     South Korea           3           3   \n",
       "2924   1949-01-25        Macau     South Korea           1           5   \n",
       "3093   1950-04-16  South Korea  Chinese Taipei           3           1   \n",
       "3467   1953-04-05    Hong Kong     South Korea           4           0   \n",
       "...           ...          ...             ...         ...         ...   \n",
       "41585  2019-12-11  South Korea       Hong Kong           2           0   \n",
       "41587  2019-12-15  South Korea        China PR           1           0   \n",
       "41589  2019-12-18  South Korea           Japan           1           0   \n",
       "41813  2020-11-14       Mexico     South Korea           3           2   \n",
       "41848  2020-11-17  South Korea           Qatar           2           1   \n",
       "\n",
       "              tournament              city      country  neutral  \n",
       "2921            Friendly         So Kon Po    Hong Kong     True  \n",
       "2923            Friendly            Saigon      Vietnam    False  \n",
       "2924            Friendly             Macau        Macau    False  \n",
       "3093            Friendly          Wan Chai    Hong Kong     True  \n",
       "3467            Friendly         So Kon Po    Hong Kong    False  \n",
       "...                  ...               ...          ...      ...  \n",
       "41585  EAFF Championship             Busan  South Korea    False  \n",
       "41587  EAFF Championship             Busan  South Korea    False  \n",
       "41589  EAFF Championship             Busan  South Korea    False  \n",
       "41813           Friendly   Wiener Neustadt      Austria     True  \n",
       "41848           Friendly  Maria Enzersdorf      Austria     True  \n",
       "\n",
       "[864 rows x 9 columns]"
      ]
     },
     "execution_count": 19,
     "metadata": {},
     "output_type": "execute_result"
    }
   ],
   "source": [
    "sk_condition = (df['home_team'].str.contains(\"South Korea\")) |  (df['away_team'].str.contains(\"South Korea\"))\n",
    "df[sk_condition]"
   ]
  },
  {
   "cell_type": "code",
   "execution_count": 30,
   "id": "demonstrated-celtic",
   "metadata": {},
   "outputs": [],
   "source": [
    "df_a = df[df['home_team'].str.contains(\"South Korea\")][['date', 'home_score']]\n",
    "df_b = df[df['away_team'].str.contains(\"South Korea\")][['date', 'away_score']]\n",
    "\n",
    "df_korea = pd.concat([df_a, df_b])\n",
    "df_korea['score'] = df_korea['away_score'].add(df_korea['home_score'], fill_value = 0)\n",
    "df_korea = df_korea[['date', 'score']]"
   ]
  },
  {
   "cell_type": "code",
   "execution_count": 34,
   "id": "living-provincial",
   "metadata": {},
   "outputs": [
    {
     "data": {
      "text/html": [
       "<div>\n",
       "<style scoped>\n",
       "    .dataframe tbody tr th:only-of-type {\n",
       "        vertical-align: middle;\n",
       "    }\n",
       "\n",
       "    .dataframe tbody tr th {\n",
       "        vertical-align: top;\n",
       "    }\n",
       "\n",
       "    .dataframe thead th {\n",
       "        text-align: right;\n",
       "    }\n",
       "</style>\n",
       "<table border=\"1\" class=\"dataframe\">\n",
       "  <thead>\n",
       "    <tr style=\"text-align: right;\">\n",
       "      <th></th>\n",
       "      <th>date</th>\n",
       "      <th>score</th>\n",
       "    </tr>\n",
       "  </thead>\n",
       "  <tbody>\n",
       "    <tr>\n",
       "      <th>3093</th>\n",
       "      <td>1950-04-16</td>\n",
       "      <td>3.0</td>\n",
       "    </tr>\n",
       "    <tr>\n",
       "      <th>3468</th>\n",
       "      <td>1953-04-08</td>\n",
       "      <td>2.0</td>\n",
       "    </tr>\n",
       "    <tr>\n",
       "      <th>3667</th>\n",
       "      <td>1954-06-20</td>\n",
       "      <td>0.0</td>\n",
       "    </tr>\n",
       "    <tr>\n",
       "      <th>3946</th>\n",
       "      <td>1956-04-21</td>\n",
       "      <td>3.0</td>\n",
       "    </tr>\n",
       "    <tr>\n",
       "      <th>4009</th>\n",
       "      <td>1956-08-26</td>\n",
       "      <td>2.0</td>\n",
       "    </tr>\n",
       "    <tr>\n",
       "      <th>...</th>\n",
       "      <td>...</td>\n",
       "      <td>...</td>\n",
       "    </tr>\n",
       "    <tr>\n",
       "      <th>41169</th>\n",
       "      <td>2019-09-10</td>\n",
       "      <td>2.0</td>\n",
       "    </tr>\n",
       "    <tr>\n",
       "      <th>41365</th>\n",
       "      <td>2019-10-15</td>\n",
       "      <td>0.0</td>\n",
       "    </tr>\n",
       "    <tr>\n",
       "      <th>41440</th>\n",
       "      <td>2019-11-14</td>\n",
       "      <td>0.0</td>\n",
       "    </tr>\n",
       "    <tr>\n",
       "      <th>41547</th>\n",
       "      <td>2019-11-19</td>\n",
       "      <td>0.0</td>\n",
       "    </tr>\n",
       "    <tr>\n",
       "      <th>41813</th>\n",
       "      <td>2020-11-14</td>\n",
       "      <td>2.0</td>\n",
       "    </tr>\n",
       "  </tbody>\n",
       "</table>\n",
       "<p>864 rows × 2 columns</p>\n",
       "</div>"
      ],
      "text/plain": [
       "             date  score\n",
       "3093   1950-04-16    3.0\n",
       "3468   1953-04-08    2.0\n",
       "3667   1954-06-20    0.0\n",
       "3946   1956-04-21    3.0\n",
       "4009   1956-08-26    2.0\n",
       "...           ...    ...\n",
       "41169  2019-09-10    2.0\n",
       "41365  2019-10-15    0.0\n",
       "41440  2019-11-14    0.0\n",
       "41547  2019-11-19    0.0\n",
       "41813  2020-11-14    2.0\n",
       "\n",
       "[864 rows x 2 columns]"
      ]
     },
     "execution_count": 34,
     "metadata": {},
     "output_type": "execute_result"
    }
   ],
   "source": [
    "# 각 날짜 별 한국이 몇 골을 넣었는지에 대한 데이터\n",
    "# 포아송 분포에서... 한 게임 당 3골 > 람다 3 \n",
    "# 한 골이라도 넣을 확률은? \n",
    "df_korea "
   ]
  },
  {
   "cell_type": "code",
   "execution_count": 35,
   "id": "conservative-corps",
   "metadata": {},
   "outputs": [
    {
     "name": "stderr",
     "output_type": "stream",
     "text": [
      "/Users/eunbinpark/miniconda3/envs/da/lib/python3.6/site-packages/seaborn/distributions.py:2557: FutureWarning: `distplot` is a deprecated function and will be removed in a future version. Please adapt your code to use either `displot` (a figure-level function with similar flexibility) or `histplot` (an axes-level function for histograms).\n",
      "  warnings.warn(msg, FutureWarning)\n"
     ]
    },
    {
     "data": {
      "text/plain": [
       "<AxesSubplot:xlabel='score'>"
      ]
     },
     "execution_count": 35,
     "metadata": {},
     "output_type": "execute_result"
    },
    {
     "data": {
      "image/png": "[encoded data removed]",
      "text/plain": [
       "<Figure size 432x288 with 1 Axes>"
      ]
     },
     "metadata": {},
     "output_type": "display_data"
    }
   ],
   "source": [
    "sns.distplot(df_korea['score'], int(df_korea['score'].max()), kde=False)"
   ]
  },
  {
   "cell_type": "code",
   "execution_count": 38,
   "id": "specialized-precipitation",
   "metadata": {},
   "outputs": [
    {
     "data": {
      "text/plain": [
       "0.0     0.218750\n",
       "1.0     0.292824\n",
       "2.0     0.248843\n",
       "3.0     0.119213\n",
       "4.0     0.065972\n",
       "5.0     0.027778\n",
       "6.0     0.009259\n",
       "7.0     0.004630\n",
       "8.0     0.006944\n",
       "9.0     0.004630\n",
       "16.0    0.001157\n",
       "Name: score, dtype: float64"
      ]
     },
     "execution_count": 38,
     "metadata": {},
     "output_type": "execute_result"
    }
   ],
   "source": [
    "# 포아송 분포가 잘 맞는지 확인해야함\n",
    "(df_korea['score'].value_counts(normalize = True)).sort_index()"
   ]
  },
  {
   "cell_type": "code",
   "execution_count": 39,
   "id": "independent-shakespeare",
   "metadata": {},
   "outputs": [
    {
     "name": "stdout",
     "output_type": "stream",
     "text": [
      "0\t0.17297129387175522\n",
      "1\t0.30350055730275566\n",
      "2\t0.2662655352262602\n",
      "3\t0.15573246581906267\n",
      "4\t0.0683131997053527\n",
      "5\t0.023972872859563593\n",
      "6\t0.007010585504455706\n",
      "7\t0.0017572830067385673\n",
      "8\t0.0003854226039085165\n",
      "9\t7.514154674965426e-05\n",
      "10\t1.3184558434314329e-05\n",
      "11\t2.103092443857379e-06\n",
      "12\t3.075123596535291e-07\n",
      "13\t4.150540751733897e-08\n",
      "14\t5.201901272841069e-09\n",
      "15\t6.084940069156672e-10\n",
      "16\t6.673010087414279e-11\n"
     ]
    }
   ],
   "source": [
    "mu = df_korea['score'].mean()\n",
    "result = list()\n",
    "\n",
    "for k in range(0, 17): # 16골까지\n",
    "    value = sp.stats.poisson.pmf(k = k, mu = mu)\n",
    "    result.append(value)\n",
    "    print(f\"{k}\\t{value}\")"
   ]
  },
  {
   "cell_type": "code",
   "execution_count": 41,
   "id": "southwest-stamp",
   "metadata": {},
   "outputs": [
    {
     "data": {
      "text/plain": [
       "<BarContainer object of 11 artists>"
      ]
     },
     "execution_count": 41,
     "metadata": {},
     "output_type": "execute_result"
    },
    {
     "data": {
      "image/png": "[encoded data removed]",
      "text/plain": [
       "<Figure size 432x288 with 1 Axes>"
      ]
     },
     "metadata": {},
     "output_type": "display_data"
    }
   ],
   "source": [
    "# 실제 값 \n",
    "true_values = (df_korea['score'].value_counts(normalize=True)).sort_values()\n",
    "\n",
    "# 포아송 분포의 프로그램의 값\n",
    "plt.bar(range(0, 17), result, alpha=0.3)\n",
    "\n",
    "plt.bar(true_values.index, true_values, alpha=0.3)"
   ]
  },
  {
   "cell_type": "markdown",
   "id": "super-concert",
   "metadata": {},
   "source": [
    "### 3골 이상 넣을 확률"
   ]
  },
  {
   "cell_type": "code",
   "execution_count": 49,
   "id": "public-identifier",
   "metadata": {},
   "outputs": [
    {
     "data": {
      "text/plain": [
       "0.742737386400771"
      ]
     },
     "execution_count": 49,
     "metadata": {},
     "output_type": "execute_result"
    }
   ],
   "source": [
    "sum(result[:3]) # ? "
   ]
  },
  {
   "cell_type": "code",
   "execution_count": null,
   "id": "listed-virus",
   "metadata": {},
   "outputs": [],
   "source": []
  }
 ],
 "metadata": {
  "kernelspec": {
   "display_name": "Python 3",
   "language": "python",
   "name": "python3"
  },
  "language_info": {
   "codemirror_mode": {
    "name": "ipython",
    "version": 3
   },
   "file_extension": ".py",
   "mimetype": "text/x-python",
   "name": "python",
   "nbconvert_exporter": "python",
   "pygments_lexer": "ipython3",
   "version": "3.6.12"
  }
 },
 "nbformat": 4,
 "nbformat_minor": 5
}
