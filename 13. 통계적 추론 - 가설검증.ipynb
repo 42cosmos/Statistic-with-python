{
 "cells": [
  {
   "cell_type": "markdown",
   "id": "based-consideration",
   "metadata": {},
   "source": [
    "# Hypothesis"
   ]
  },
  {
   "cell_type": "code",
   "execution_count": 4,
   "id": "moderate-married",
   "metadata": {},
   "outputs": [],
   "source": [
    "import os\n",
    "\n",
    "import pandas as pd\n",
    "import numpy as np\n",
    "import matplotlib.pyplot as plt\n",
    "import seaborn as sns\n",
    "\n",
    "from random import random\n",
    "from scipy.special import comb\n",
    "import scipy as sp\n",
    "\n",
    "sns.set(style='ticks', color_codes = True)\n",
    "\n",
    "\n",
    "import warnings\n",
    "warnings.filterwarnings(action='ignore')"
   ]
  },
  {
   "cell_type": "code",
   "execution_count": 5,
   "id": "coral-reality",
   "metadata": {},
   "outputs": [],
   "source": [
    "X_bar = 626 # 표본 평균\n",
    "mu = 625 # 원 평균\n",
    "var = 10 \n",
    "n_samples = 50"
   ]
  },
  {
   "cell_type": "code",
   "execution_count": 6,
   "id": "elect-monaco",
   "metadata": {},
   "outputs": [
    {
     "data": {
      "text/plain": [
       "(0.4472135954999579, 2.23606797749979)"
      ]
     },
     "execution_count": 6,
     "metadata": {},
     "output_type": "execute_result"
    }
   ],
   "source": [
    "se = (np.sqrt(var) / np.sqrt(n_samples))\n",
    "\n",
    "z_value = (X_bar - mu) / se\n",
    "se, z_value"
   ]
  },
  {
   "cell_type": "code",
   "execution_count": 7,
   "id": "applied-refrigerator",
   "metadata": {},
   "outputs": [
    {
     "data": {
      "text/plain": [
       "0.9873263406612659"
      ]
     },
     "execution_count": 7,
     "metadata": {},
     "output_type": "execute_result"
    }
   ],
   "source": [
    "# 표준 정규분포로 바꾸어주고 z = 2.23 > 까지의 범위가 0.98\n",
    "# p가 0.05라 했을 때 0.25, -0.25 > 98은 기각력 안에 존재함 \n",
    "alpha = sp.stats.norm.cdf(z_value)\n",
    "alpha"
   ]
  },
  {
   "cell_type": "code",
   "execution_count": 8,
   "id": "correct-sympathy",
   "metadata": {},
   "outputs": [
    {
     "data": {
      "text/plain": [
       "0.0253473186774682"
      ]
     },
     "execution_count": 8,
     "metadata": {},
     "output_type": "execute_result"
    }
   ],
   "source": [
    "(1 - alpha) * 2"
   ]
  },
  {
   "cell_type": "code",
   "execution_count": 9,
   "id": "configured-grade",
   "metadata": {},
   "outputs": [
    {
     "data": {
      "text/plain": [
       "0.025347318677468252"
      ]
     },
     "execution_count": 9,
     "metadata": {},
     "output_type": "execute_result"
    }
   ],
   "source": [
    "# p가 0.05라 했을 때 0.25, -0.25 > 98은 기각력 안에 존재함 \n",
    "2 * sp.stats.norm().sf(np.abs(z_value))"
   ]
  },
  {
   "cell_type": "markdown",
   "id": "viral-architecture",
   "metadata": {},
   "source": [
    "## 2변량"
   ]
  },
  {
   "cell_type": "code",
   "execution_count": 10,
   "id": "controlling-brown",
   "metadata": {},
   "outputs": [
    {
     "data": {
      "text/plain": [
       "(1000, 8)"
      ]
     },
     "execution_count": 10,
     "metadata": {},
     "output_type": "execute_result"
    }
   ],
   "source": [
    "df = pd.read_csv(os.path.join('data', 'StudentsPerformance.csv'))\n",
    "df.shape"
   ]
  },
  {
   "cell_type": "markdown",
   "id": "genetic-precipitation",
   "metadata": {},
   "source": [
    "- 귀무가설 : 성별에 따른 수학 점수의 차이 존재\n",
    "- 대립가설 : 없을 것"
   ]
  },
  {
   "cell_type": "code",
   "execution_count": 12,
   "id": "therapeutic-postcard",
   "metadata": {},
   "outputs": [],
   "source": [
    "df_female_math = df[df['gender'] == 'female']['math score']\n",
    "df_male_math = df[df['gender'] == 'male']['math score']"
   ]
  },
  {
   "cell_type": "code",
   "execution_count": 13,
   "id": "fuzzy-clause",
   "metadata": {},
   "outputs": [
    {
     "data": {
      "text/plain": [
       "(63.633204633204635, 68.72821576763485)"
      ]
     },
     "execution_count": 13,
     "metadata": {},
     "output_type": "execute_result"
    }
   ],
   "source": [
    "df_female_math.mean(), df_male_math.mean()"
   ]
  },
  {
   "cell_type": "code",
   "execution_count": 18,
   "id": "surprised-article",
   "metadata": {},
   "outputs": [],
   "source": [
    "from statsmodels.stats.weightstats import CompareMeans\n",
    "from statsmodels.stats.weightstats import ztest"
   ]
  },
  {
   "cell_type": "code",
   "execution_count": 19,
   "id": "initial-awareness",
   "metadata": {},
   "outputs": [],
   "source": [
    "model = CompareMeans.from_data(df_male_math, df_female_math)\n",
    "ztest, pval = model.ztest_ind(alternative = 'two-sided')\n",
    "# two-sided 양쪽 비교"
   ]
  },
  {
   "cell_type": "code",
   "execution_count": 25,
   "id": "broken-laser",
   "metadata": {},
   "outputs": [
    {
     "data": {
      "text/html": [
       "<table class=\"simpletable\">\n",
       "<caption>Test for equality of means</caption>\n",
       "<tr>\n",
       "      <td></td>         <th>coef</th>     <th>std err</th>      <th>t</th>      <th>P>|t|</th>  <th>[0.025</th>    <th>0.975]</th>  \n",
       "</tr>\n",
       "<tr>\n",
       "  <th>subset #1</th> <td>    5.0950</td> <td>    0.946</td> <td>    5.383</td> <td> 0.000</td> <td>    3.238</td> <td>    6.952</td>\n",
       "</tr>\n",
       "</table>"
      ],
      "text/plain": [
       "<class 'statsmodels.iolib.table.SimpleTable'>"
      ]
     },
     "execution_count": 25,
     "metadata": {},
     "output_type": "execute_result"
    }
   ],
   "source": [
    "model.summary()"
   ]
  },
  {
   "cell_type": "code",
   "execution_count": 26,
   "id": "greenhouse-audio",
   "metadata": {},
   "outputs": [
    {
     "data": {
      "text/plain": [
       "(5.383245869828983, 7.31545037956675e-08)"
      ]
     },
     "execution_count": 26,
     "metadata": {},
     "output_type": "execute_result"
    }
   ],
   "source": [
    "ztest, pval # pval이 너무 작음 -> 성별에 따른 차이 부재 "
   ]
  },
  {
   "cell_type": "markdown",
   "id": "surprised-italy",
   "metadata": {},
   "source": [
    "## AB testing\n",
    "비율을 비교할 때"
   ]
  },
  {
   "cell_type": "code",
   "execution_count": 27,
   "id": "democratic-height",
   "metadata": {},
   "outputs": [],
   "source": [
    "from statsmodels.stats.proportion import proportions_ztest"
   ]
  },
  {
   "cell_type": "code",
   "execution_count": null,
   "id": "separate-canal",
   "metadata": {},
   "outputs": [],
   "source": [
    "# 베르누이 분포 역시 z, p 값을 구함\n",
    "# z_val, p_val = proportions_ztest(counts, nobs)\n",
    "\n",
    "# p_value = 0.2161\n",
    "# if p_val < 0.05: print('reject null hypothesis') else: print('Accept null hypothesis')\n",
    "# 변화가 거의 없음을 accept ! "
   ]
  }
 ],
 "metadata": {
  "kernelspec": {
   "display_name": "Python 3",
   "language": "python",
   "name": "python3"
  },
  "language_info": {
   "codemirror_mode": {
    "name": "ipython",
    "version": 3
   },
   "file_extension": ".py",
   "mimetype": "text/x-python",
   "name": "python",
   "nbconvert_exporter": "python",
   "pygments_lexer": "ipython3",
   "version": "3.6.12"
  }
 },
 "nbformat": 4,
 "nbformat_minor": 5
}
